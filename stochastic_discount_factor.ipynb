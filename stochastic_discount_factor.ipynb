{
 "cells": [
  {
   "cell_type": "markdown",
   "metadata": {},
   "source": [
    "## Campbell - Financial Decisions and Markets - A course in Asset Pricing - Princeton Univesity Press (2017)"
   ]
  },
  {
   "cell_type": "markdown",
   "metadata": {},
   "source": [
    "O intuito deste trabalho é replicar três tabelas para dados brasileiros do livro Financial Decisions and Markeets - A course in Asset Pricing de John Campbell (2017). São elas as Tabelas 6.1, 6.2 e 6.3."
   ]
  },
  {
   "cell_type": "code",
   "execution_count": 123,
   "metadata": {},
   "outputs": [],
   "source": [
    "import math\n",
    "import numpy as np\n",
    "import pandas as pd\n",
    "import matplotlib.pyplot as plt\n",
    "import statsmodels.formula.api as sm\n",
    "from datetime import datetime, timedelta\n",
    "import pandas_datareader.data as web\n",
    "from calendar import monthrange"
   ]
  },
  {
   "cell_type": "markdown",
   "metadata": {},
   "source": [
    "### Tabela 6.1 \n",
    "A tabela 6.1 reporta momentos básicos para retornos trimestrais em log de equity $r_e$ que para o caso brasileiro é usado os retornos do Ibovespa, taxa de juros de curto prazo em log $r_f$ que para o caso brasileiro é usado o futuro di de um mês, e taxa de crescimento do consumo per capita em log $\\Delta c$, todos medidos em termos reais e base anualizada. Para cada variável a tabela tem três colunas reportando a média e desvio padrão ambos em pontos percentuais e a primeira autocorrelação."
   ]
  },
  {
   "cell_type": "markdown",
   "metadata": {},
   "source": [
    "### Inflação"
   ]
  },
  {
   "cell_type": "code",
   "execution_count": 124,
   "metadata": {},
   "outputs": [],
   "source": [
    "# criando um dataframe com as datas diárias e com frequência trimestral de 01/01/2000 até hoje\n",
    "date_today = datetime.now().date()\n",
    "days = pd.date_range(start = '2000-01-01', end = date_today, freq='D')\n",
    "months = pd.date_range(start = '2012-06-30', end = date_today, freq='M')\n",
    "quarters = pd.date_range(start = '2012-06-30', end = date_today, freq='Q')"
   ]
  },
  {
   "cell_type": "code",
   "execution_count": 125,
   "metadata": {},
   "outputs": [],
   "source": [
    "# função que se a entrada for NaN toma o valor do dia anterior\n",
    "def normalize_nan(df):\n",
    "    for i in range(len(df)):\n",
    "        if i == 0:\n",
    "            pass\n",
    "        elif math.isnan(df.iloc[i]) == True:\n",
    "            df.iloc[i] = df.iloc[i-1]\n",
    "        else:\n",
    "            continue"
   ]
  },
  {
   "cell_type": "code",
   "execution_count": 126,
   "metadata": {},
   "outputs": [],
   "source": [
    "# função que recebe código do BC e devolve uma série de acordo\n",
    "# códigos e séries podem ser encontrados em https://www3.bcb.gov.br/sgspub/localizarseries/localizarSeries.do?method=prepararTelaLocalizarSeries\n",
    "def consulta_bc(codigo_bcb):\n",
    "  url = 'http://api.bcb.gov.br/dados/serie/bcdata.sgs.{}/dados?formato=json'.format(codigo_bcb)\n",
    "  df = pd.read_json(url)\n",
    "  df['data'] = pd.to_datetime(df['data'], dayfirst=True)\n",
    "  df.set_index('data', inplace=True)\n",
    "  return df"
   ]
  },
  {
   "cell_type": "code",
   "execution_count": 127,
   "metadata": {},
   "outputs": [],
   "source": [
    "ipca = pd.DataFrame(consulta_bc(433), index=days)"
   ]
  },
  {
   "cell_type": "code",
   "execution_count": 128,
   "metadata": {},
   "outputs": [],
   "source": [
    "normalize_nan(ipca)"
   ]
  },
  {
   "cell_type": "code",
   "execution_count": 129,
   "metadata": {},
   "outputs": [],
   "source": [
    "# transformando os dados em decimais\n",
    "ipca = ipca/100"
   ]
  },
  {
   "cell_type": "code",
   "execution_count": 130,
   "metadata": {},
   "outputs": [],
   "source": [
    "ipca = ipca.loc[months]"
   ]
  },
  {
   "cell_type": "code",
   "execution_count": 131,
   "metadata": {},
   "outputs": [],
   "source": [
    "ipca['valor_{t-1}'] = ipca['valor'].shift(1)\n",
    "ipca['valor_{t-2}'] = ipca['valor'].shift(2)"
   ]
  },
  {
   "cell_type": "markdown",
   "metadata": {},
   "source": [
    "Para obter a inflação e tornar as séries reais utilizaremos o Índice de Preços do Consumidor Amplo (IPCA). Como a periodicidade é trimestral, também será necessário tornar o IPCA trimestral $\\pi_{\\Delta t}$. Como o IPCA é um dado mensal $\\pi_t$, podemos obte-lô de forma trimestral a partir da seguinte equação\n",
    "\n",
    "$$\n",
    "\\pi_{\\Delta t} = (1+\\pi_t)\\cdot(1+\\pi_{t-1})\\cdot(1+\\pi_{t-2}) - 1\n",
    "$$"
   ]
  },
  {
   "cell_type": "code",
   "execution_count": 132,
   "metadata": {},
   "outputs": [],
   "source": [
    "ipca['IPCA_trimestral'] = (1+ipca['valor'])*(1+ipca['valor_{t-1}'])*(1+ipca['valor_{t-2}']) - 1"
   ]
  },
  {
   "cell_type": "code",
   "execution_count": 133,
   "metadata": {},
   "outputs": [],
   "source": [
    "ipca = ipca.loc[quarters]"
   ]
  },
  {
   "cell_type": "code",
   "execution_count": 134,
   "metadata": {},
   "outputs": [
    {
     "data": {
      "text/html": [
       "<div>\n",
       "<style scoped>\n",
       "    .dataframe tbody tr th:only-of-type {\n",
       "        vertical-align: middle;\n",
       "    }\n",
       "\n",
       "    .dataframe tbody tr th {\n",
       "        vertical-align: top;\n",
       "    }\n",
       "\n",
       "    .dataframe thead th {\n",
       "        text-align: right;\n",
       "    }\n",
       "</style>\n",
       "<table border=\"1\" class=\"dataframe\">\n",
       "  <thead>\n",
       "    <tr style=\"text-align: right;\">\n",
       "      <th></th>\n",
       "      <th>valor</th>\n",
       "      <th>valor_{t-1}</th>\n",
       "      <th>valor_{t-2}</th>\n",
       "      <th>IPCA_trimestral</th>\n",
       "    </tr>\n",
       "  </thead>\n",
       "  <tbody>\n",
       "    <tr>\n",
       "      <th>2012-06-30</th>\n",
       "      <td>0.0008</td>\n",
       "      <td>NaN</td>\n",
       "      <td>NaN</td>\n",
       "      <td>NaN</td>\n",
       "    </tr>\n",
       "    <tr>\n",
       "      <th>2012-09-30</th>\n",
       "      <td>0.0057</td>\n",
       "      <td>0.0041</td>\n",
       "      <td>0.0043</td>\n",
       "      <td>0.014166</td>\n",
       "    </tr>\n",
       "    <tr>\n",
       "      <th>2012-12-31</th>\n",
       "      <td>0.0079</td>\n",
       "      <td>0.0060</td>\n",
       "      <td>0.0059</td>\n",
       "      <td>0.019930</td>\n",
       "    </tr>\n",
       "    <tr>\n",
       "      <th>2013-03-31</th>\n",
       "      <td>0.0047</td>\n",
       "      <td>0.0060</td>\n",
       "      <td>0.0086</td>\n",
       "      <td>0.019420</td>\n",
       "    </tr>\n",
       "    <tr>\n",
       "      <th>2013-06-30</th>\n",
       "      <td>0.0026</td>\n",
       "      <td>0.0037</td>\n",
       "      <td>0.0055</td>\n",
       "      <td>0.011844</td>\n",
       "    </tr>\n",
       "    <tr>\n",
       "      <th>2013-09-30</th>\n",
       "      <td>0.0035</td>\n",
       "      <td>0.0024</td>\n",
       "      <td>0.0003</td>\n",
       "      <td>0.006210</td>\n",
       "    </tr>\n",
       "    <tr>\n",
       "      <th>2013-12-31</th>\n",
       "      <td>0.0092</td>\n",
       "      <td>0.0054</td>\n",
       "      <td>0.0057</td>\n",
       "      <td>0.020433</td>\n",
       "    </tr>\n",
       "    <tr>\n",
       "      <th>2014-03-31</th>\n",
       "      <td>0.0092</td>\n",
       "      <td>0.0069</td>\n",
       "      <td>0.0055</td>\n",
       "      <td>0.021752</td>\n",
       "    </tr>\n",
       "    <tr>\n",
       "      <th>2014-06-30</th>\n",
       "      <td>0.0040</td>\n",
       "      <td>0.0046</td>\n",
       "      <td>0.0067</td>\n",
       "      <td>0.015376</td>\n",
       "    </tr>\n",
       "    <tr>\n",
       "      <th>2014-09-30</th>\n",
       "      <td>0.0057</td>\n",
       "      <td>0.0025</td>\n",
       "      <td>0.0001</td>\n",
       "      <td>0.008315</td>\n",
       "    </tr>\n",
       "  </tbody>\n",
       "</table>\n",
       "</div>"
      ],
      "text/plain": [
       "             valor  valor_{t-1}  valor_{t-2}  IPCA_trimestral\n",
       "2012-06-30  0.0008          NaN          NaN              NaN\n",
       "2012-09-30  0.0057       0.0041       0.0043         0.014166\n",
       "2012-12-31  0.0079       0.0060       0.0059         0.019930\n",
       "2013-03-31  0.0047       0.0060       0.0086         0.019420\n",
       "2013-06-30  0.0026       0.0037       0.0055         0.011844\n",
       "2013-09-30  0.0035       0.0024       0.0003         0.006210\n",
       "2013-12-31  0.0092       0.0054       0.0057         0.020433\n",
       "2014-03-31  0.0092       0.0069       0.0055         0.021752\n",
       "2014-06-30  0.0040       0.0046       0.0067         0.015376\n",
       "2014-09-30  0.0057       0.0025       0.0001         0.008315"
      ]
     },
     "execution_count": 134,
     "metadata": {},
     "output_type": "execute_result"
    }
   ],
   "source": [
    "ipca.head(10)"
   ]
  },
  {
   "cell_type": "markdown",
   "metadata": {},
   "source": [
    "### Ibovespa"
   ]
  },
  {
   "cell_type": "code",
   "execution_count": 135,
   "metadata": {},
   "outputs": [],
   "source": [
    "ibov = web.get_data_yahoo('^BVSP', start = \"2000-01-01\")\n",
    "ibov = pd.DataFrame(data = ibov['Adj Close'], index = days)\n",
    "ibov = ibov.rename(columns={'Adj Close': 'IBOV'})"
   ]
  },
  {
   "cell_type": "code",
   "execution_count": 136,
   "metadata": {},
   "outputs": [],
   "source": [
    "normalize_nan(ibov)"
   ]
  },
  {
   "cell_type": "code",
   "execution_count": 137,
   "metadata": {},
   "outputs": [],
   "source": [
    "# vai retornar o dataframe do ibovespa com valores trimestrais apenas\n",
    "ibov = ibov.loc[quarters]"
   ]
  },
  {
   "cell_type": "markdown",
   "metadata": {},
   "source": [
    "Os retornos trimestrais anualizados do Ibovespa podem ser obtidos através da seguinte equação\n",
    "\n",
    "$$\n",
    "r_e = \\left[1+\\ln\\left(\\frac{P_{t}}{P_{t-1}}\\right)\\right]^4-1\n",
    "$$"
   ]
  },
  {
   "cell_type": "code",
   "execution_count": 138,
   "metadata": {},
   "outputs": [],
   "source": [
    "ibov['IBOV_{t-1}'] = ibov['IBOV'].shift(1)"
   ]
  },
  {
   "cell_type": "code",
   "execution_count": 139,
   "metadata": {},
   "outputs": [],
   "source": [
    "ibov['re'] = (1 + (np.log(ibov['IBOV']/ibov['IBOV_{t-1}'])))**4 - 1"
   ]
  },
  {
   "cell_type": "code",
   "execution_count": 140,
   "metadata": {},
   "outputs": [
    {
     "data": {
      "text/html": [
       "<div>\n",
       "<style scoped>\n",
       "    .dataframe tbody tr th:only-of-type {\n",
       "        vertical-align: middle;\n",
       "    }\n",
       "\n",
       "    .dataframe tbody tr th {\n",
       "        vertical-align: top;\n",
       "    }\n",
       "\n",
       "    .dataframe thead th {\n",
       "        text-align: right;\n",
       "    }\n",
       "</style>\n",
       "<table border=\"1\" class=\"dataframe\">\n",
       "  <thead>\n",
       "    <tr style=\"text-align: right;\">\n",
       "      <th></th>\n",
       "      <th>IBOV</th>\n",
       "      <th>IBOV_{t-1}</th>\n",
       "      <th>re</th>\n",
       "    </tr>\n",
       "  </thead>\n",
       "  <tbody>\n",
       "    <tr>\n",
       "      <th>2012-06-30</th>\n",
       "      <td>54355.0</td>\n",
       "      <td>NaN</td>\n",
       "      <td>NaN</td>\n",
       "    </tr>\n",
       "    <tr>\n",
       "      <th>2012-09-30</th>\n",
       "      <td>59176.0</td>\n",
       "      <td>54355.0</td>\n",
       "      <td>0.385754</td>\n",
       "    </tr>\n",
       "    <tr>\n",
       "      <th>2012-12-31</th>\n",
       "      <td>60952.0</td>\n",
       "      <td>59176.0</td>\n",
       "      <td>0.123633</td>\n",
       "    </tr>\n",
       "    <tr>\n",
       "      <th>2013-03-31</th>\n",
       "      <td>56352.0</td>\n",
       "      <td>60952.0</td>\n",
       "      <td>-0.278826</td>\n",
       "    </tr>\n",
       "    <tr>\n",
       "      <th>2013-06-30</th>\n",
       "      <td>47457.0</td>\n",
       "      <td>56352.0</td>\n",
       "      <td>-0.529506</td>\n",
       "    </tr>\n",
       "    <tr>\n",
       "      <th>2013-09-30</th>\n",
       "      <td>52338.0</td>\n",
       "      <td>47457.0</td>\n",
       "      <td>0.452944</td>\n",
       "    </tr>\n",
       "    <tr>\n",
       "      <th>2013-12-31</th>\n",
       "      <td>51507.0</td>\n",
       "      <td>52338.0</td>\n",
       "      <td>-0.062499</td>\n",
       "    </tr>\n",
       "    <tr>\n",
       "      <th>2014-03-31</th>\n",
       "      <td>50415.0</td>\n",
       "      <td>51507.0</td>\n",
       "      <td>-0.083000</td>\n",
       "    </tr>\n",
       "    <tr>\n",
       "      <th>2014-06-30</th>\n",
       "      <td>53168.0</td>\n",
       "      <td>50415.0</td>\n",
       "      <td>0.230242</td>\n",
       "    </tr>\n",
       "    <tr>\n",
       "      <th>2014-09-30</th>\n",
       "      <td>54116.0</td>\n",
       "      <td>53168.0</td>\n",
       "      <td>0.072589</td>\n",
       "    </tr>\n",
       "  </tbody>\n",
       "</table>\n",
       "</div>"
      ],
      "text/plain": [
       "               IBOV  IBOV_{t-1}        re\n",
       "2012-06-30  54355.0         NaN       NaN\n",
       "2012-09-30  59176.0     54355.0  0.385754\n",
       "2012-12-31  60952.0     59176.0  0.123633\n",
       "2013-03-31  56352.0     60952.0 -0.278826\n",
       "2013-06-30  47457.0     56352.0 -0.529506\n",
       "2013-09-30  52338.0     47457.0  0.452944\n",
       "2013-12-31  51507.0     52338.0 -0.062499\n",
       "2014-03-31  50415.0     51507.0 -0.083000\n",
       "2014-06-30  53168.0     50415.0  0.230242\n",
       "2014-09-30  54116.0     53168.0  0.072589"
      ]
     },
     "execution_count": 140,
     "metadata": {},
     "output_type": "execute_result"
    }
   ],
   "source": [
    "ibov.head(10)"
   ]
  },
  {
   "cell_type": "code",
   "execution_count": 141,
   "metadata": {},
   "outputs": [],
   "source": [
    "ibov['IPCA'] = ipca['IPCA_trimestral']"
   ]
  },
  {
   "cell_type": "markdown",
   "metadata": {},
   "source": [
    "Para obtermos a rentabilidade da equity em termos reais temos que\n",
    "\n",
    "$$\n",
    "r_e^{\\$} = \\frac{1+r_e}{1+\\pi} - 1\n",
    "$$"
   ]
  },
  {
   "cell_type": "code",
   "execution_count": 142,
   "metadata": {},
   "outputs": [],
   "source": [
    "ibov['re_real'] = ((1+ibov['re'])/(1+ibov['IPCA'])) - 1"
   ]
  },
  {
   "cell_type": "code",
   "execution_count": 143,
   "metadata": {},
   "outputs": [],
   "source": [
    "ibov = ibov[:-1]"
   ]
  },
  {
   "cell_type": "code",
   "execution_count": 146,
   "metadata": {},
   "outputs": [
    {
     "data": {
      "text/html": [
       "<div>\n",
       "<style scoped>\n",
       "    .dataframe tbody tr th:only-of-type {\n",
       "        vertical-align: middle;\n",
       "    }\n",
       "\n",
       "    .dataframe tbody tr th {\n",
       "        vertical-align: top;\n",
       "    }\n",
       "\n",
       "    .dataframe thead th {\n",
       "        text-align: right;\n",
       "    }\n",
       "</style>\n",
       "<table border=\"1\" class=\"dataframe\">\n",
       "  <thead>\n",
       "    <tr style=\"text-align: right;\">\n",
       "      <th></th>\n",
       "      <th>IBOV</th>\n",
       "      <th>IBOV_{t-1}</th>\n",
       "      <th>re</th>\n",
       "      <th>IPCA</th>\n",
       "      <th>re_real</th>\n",
       "    </tr>\n",
       "  </thead>\n",
       "  <tbody>\n",
       "    <tr>\n",
       "      <th>2012-06-30</th>\n",
       "      <td>54355.0</td>\n",
       "      <td>NaN</td>\n",
       "      <td>NaN</td>\n",
       "      <td>NaN</td>\n",
       "      <td>NaN</td>\n",
       "    </tr>\n",
       "    <tr>\n",
       "      <th>2012-09-30</th>\n",
       "      <td>59176.0</td>\n",
       "      <td>54355.0</td>\n",
       "      <td>0.385754</td>\n",
       "      <td>0.014166</td>\n",
       "      <td>0.366398</td>\n",
       "    </tr>\n",
       "    <tr>\n",
       "      <th>2012-12-31</th>\n",
       "      <td>60952.0</td>\n",
       "      <td>59176.0</td>\n",
       "      <td>0.123633</td>\n",
       "      <td>0.019930</td>\n",
       "      <td>0.101677</td>\n",
       "    </tr>\n",
       "    <tr>\n",
       "      <th>2013-03-31</th>\n",
       "      <td>56352.0</td>\n",
       "      <td>60952.0</td>\n",
       "      <td>-0.278826</td>\n",
       "      <td>0.019420</td>\n",
       "      <td>-0.292565</td>\n",
       "    </tr>\n",
       "    <tr>\n",
       "      <th>2013-06-30</th>\n",
       "      <td>47457.0</td>\n",
       "      <td>56352.0</td>\n",
       "      <td>-0.529506</td>\n",
       "      <td>0.011844</td>\n",
       "      <td>-0.535013</td>\n",
       "    </tr>\n",
       "    <tr>\n",
       "      <th>2013-09-30</th>\n",
       "      <td>52338.0</td>\n",
       "      <td>47457.0</td>\n",
       "      <td>0.452944</td>\n",
       "      <td>0.006210</td>\n",
       "      <td>0.443977</td>\n",
       "    </tr>\n",
       "    <tr>\n",
       "      <th>2013-12-31</th>\n",
       "      <td>51507.0</td>\n",
       "      <td>52338.0</td>\n",
       "      <td>-0.062499</td>\n",
       "      <td>0.020433</td>\n",
       "      <td>-0.081272</td>\n",
       "    </tr>\n",
       "    <tr>\n",
       "      <th>2014-03-31</th>\n",
       "      <td>50415.0</td>\n",
       "      <td>51507.0</td>\n",
       "      <td>-0.083000</td>\n",
       "      <td>0.021752</td>\n",
       "      <td>-0.102522</td>\n",
       "    </tr>\n",
       "    <tr>\n",
       "      <th>2014-06-30</th>\n",
       "      <td>53168.0</td>\n",
       "      <td>50415.0</td>\n",
       "      <td>0.230242</td>\n",
       "      <td>0.015376</td>\n",
       "      <td>0.211612</td>\n",
       "    </tr>\n",
       "    <tr>\n",
       "      <th>2014-09-30</th>\n",
       "      <td>54116.0</td>\n",
       "      <td>53168.0</td>\n",
       "      <td>0.072589</td>\n",
       "      <td>0.008315</td>\n",
       "      <td>0.063744</td>\n",
       "    </tr>\n",
       "  </tbody>\n",
       "</table>\n",
       "</div>"
      ],
      "text/plain": [
       "               IBOV  IBOV_{t-1}        re      IPCA   re_real\n",
       "2012-06-30  54355.0         NaN       NaN       NaN       NaN\n",
       "2012-09-30  59176.0     54355.0  0.385754  0.014166  0.366398\n",
       "2012-12-31  60952.0     59176.0  0.123633  0.019930  0.101677\n",
       "2013-03-31  56352.0     60952.0 -0.278826  0.019420 -0.292565\n",
       "2013-06-30  47457.0     56352.0 -0.529506  0.011844 -0.535013\n",
       "2013-09-30  52338.0     47457.0  0.452944  0.006210  0.443977\n",
       "2013-12-31  51507.0     52338.0 -0.062499  0.020433 -0.081272\n",
       "2014-03-31  50415.0     51507.0 -0.083000  0.021752 -0.102522\n",
       "2014-06-30  53168.0     50415.0  0.230242  0.015376  0.211612\n",
       "2014-09-30  54116.0     53168.0  0.072589  0.008315  0.063744"
      ]
     },
     "execution_count": 146,
     "metadata": {},
     "output_type": "execute_result"
    }
   ],
   "source": [
    "ibov.head(10)"
   ]
  },
  {
   "cell_type": "markdown",
   "metadata": {},
   "source": [
    "### Futuro DI com um mês"
   ]
  },
  {
   "cell_type": "code",
   "execution_count": 147,
   "metadata": {},
   "outputs": [],
   "source": [
    "futurodi = pd.read_csv('futuroDI.csv', sep=',', index_col=0)"
   ]
  },
  {
   "cell_type": "code",
   "execution_count": 148,
   "metadata": {},
   "outputs": [],
   "source": [
    "# função que torna o índice um objeto de data\n",
    "futurodi.index = pd.to_datetime(futurodi.index)"
   ]
  },
  {
   "cell_type": "code",
   "execution_count": 149,
   "metadata": {},
   "outputs": [],
   "source": [
    "# normalizando os dados que estavam em taxas para números decimais\n",
    "futurodi = futurodi/100"
   ]
  },
  {
   "cell_type": "code",
   "execution_count": 150,
   "metadata": {},
   "outputs": [],
   "source": [
    "futurodi = futurodi[['BRPRE1M=BMF']]"
   ]
  },
  {
   "cell_type": "code",
   "execution_count": 151,
   "metadata": {},
   "outputs": [],
   "source": [
    "futurodi = futurodi.rename(columns={'BRPRE1M=BMF':'rf'})"
   ]
  },
  {
   "cell_type": "code",
   "execution_count": 152,
   "metadata": {},
   "outputs": [],
   "source": [
    "futurodi = futurodi[::-1]"
   ]
  },
  {
   "cell_type": "code",
   "execution_count": 153,
   "metadata": {},
   "outputs": [],
   "source": [
    "futurodi = futurodi.loc[quarters]"
   ]
  },
  {
   "cell_type": "code",
   "execution_count": 154,
   "metadata": {},
   "outputs": [
    {
     "data": {
      "text/html": [
       "<div>\n",
       "<style scoped>\n",
       "    .dataframe tbody tr th:only-of-type {\n",
       "        vertical-align: middle;\n",
       "    }\n",
       "\n",
       "    .dataframe tbody tr th {\n",
       "        vertical-align: top;\n",
       "    }\n",
       "\n",
       "    .dataframe thead th {\n",
       "        text-align: right;\n",
       "    }\n",
       "</style>\n",
       "<table border=\"1\" class=\"dataframe\">\n",
       "  <thead>\n",
       "    <tr style=\"text-align: right;\">\n",
       "      <th></th>\n",
       "      <th>rf</th>\n",
       "    </tr>\n",
       "  </thead>\n",
       "  <tbody>\n",
       "    <tr>\n",
       "      <th>2012-06-30</th>\n",
       "      <td>0.08089</td>\n",
       "    </tr>\n",
       "    <tr>\n",
       "      <th>2012-09-30</th>\n",
       "      <td>0.07293</td>\n",
       "    </tr>\n",
       "    <tr>\n",
       "      <th>2012-12-31</th>\n",
       "      <td>0.06974</td>\n",
       "    </tr>\n",
       "    <tr>\n",
       "      <th>2013-03-31</th>\n",
       "      <td>0.07021</td>\n",
       "    </tr>\n",
       "    <tr>\n",
       "      <th>2013-06-30</th>\n",
       "      <td>0.08104</td>\n",
       "    </tr>\n",
       "    <tr>\n",
       "      <th>2013-09-30</th>\n",
       "      <td>0.09118</td>\n",
       "    </tr>\n",
       "    <tr>\n",
       "      <th>2013-12-31</th>\n",
       "      <td>0.09957</td>\n",
       "    </tr>\n",
       "    <tr>\n",
       "      <th>2014-03-31</th>\n",
       "      <td>0.10743</td>\n",
       "    </tr>\n",
       "    <tr>\n",
       "      <th>2014-06-30</th>\n",
       "      <td>0.10814</td>\n",
       "    </tr>\n",
       "    <tr>\n",
       "      <th>2014-09-30</th>\n",
       "      <td>0.10835</td>\n",
       "    </tr>\n",
       "  </tbody>\n",
       "</table>\n",
       "</div>"
      ],
      "text/plain": [
       "                 rf\n",
       "2012-06-30  0.08089\n",
       "2012-09-30  0.07293\n",
       "2012-12-31  0.06974\n",
       "2013-03-31  0.07021\n",
       "2013-06-30  0.08104\n",
       "2013-09-30  0.09118\n",
       "2013-12-31  0.09957\n",
       "2014-03-31  0.10743\n",
       "2014-06-30  0.10814\n",
       "2014-09-30  0.10835"
      ]
     },
     "execution_count": 154,
     "metadata": {},
     "output_type": "execute_result"
    }
   ],
   "source": [
    "futurodi.head(10)"
   ]
  },
  {
   "cell_type": "code",
   "execution_count": 155,
   "metadata": {},
   "outputs": [],
   "source": [
    "futurodi['IPCA'] = ipca['IPCA_trimestral']"
   ]
  },
  {
   "cell_type": "markdown",
   "metadata": {},
   "source": [
    "Da mesma forma para o short-term interest rate, para obtermos a rentabilidade em termos reais temos que\n",
    "\n",
    "$$\n",
    "r_f^{\\$} = \\frac{1+r_f}{1+\\pi} - 1\n",
    "$$"
   ]
  },
  {
   "cell_type": "code",
   "execution_count": 156,
   "metadata": {},
   "outputs": [],
   "source": [
    "futurodi['rf_real'] = ((1+futurodi['rf'])/(1+futurodi['IPCA'])) - 1"
   ]
  },
  {
   "cell_type": "code",
   "execution_count": 157,
   "metadata": {},
   "outputs": [],
   "source": [
    "futurodi = futurodi[:-1]"
   ]
  },
  {
   "cell_type": "code",
   "execution_count": 160,
   "metadata": {},
   "outputs": [
    {
     "data": {
      "text/html": [
       "<div>\n",
       "<style scoped>\n",
       "    .dataframe tbody tr th:only-of-type {\n",
       "        vertical-align: middle;\n",
       "    }\n",
       "\n",
       "    .dataframe tbody tr th {\n",
       "        vertical-align: top;\n",
       "    }\n",
       "\n",
       "    .dataframe thead th {\n",
       "        text-align: right;\n",
       "    }\n",
       "</style>\n",
       "<table border=\"1\" class=\"dataframe\">\n",
       "  <thead>\n",
       "    <tr style=\"text-align: right;\">\n",
       "      <th></th>\n",
       "      <th>rf</th>\n",
       "      <th>IPCA</th>\n",
       "      <th>rf_real</th>\n",
       "    </tr>\n",
       "  </thead>\n",
       "  <tbody>\n",
       "    <tr>\n",
       "      <th>2012-06-30</th>\n",
       "      <td>0.08089</td>\n",
       "      <td>NaN</td>\n",
       "      <td>NaN</td>\n",
       "    </tr>\n",
       "    <tr>\n",
       "      <th>2012-09-30</th>\n",
       "      <td>0.07293</td>\n",
       "      <td>0.014166</td>\n",
       "      <td>0.057944</td>\n",
       "    </tr>\n",
       "    <tr>\n",
       "      <th>2012-12-31</th>\n",
       "      <td>0.06974</td>\n",
       "      <td>0.019930</td>\n",
       "      <td>0.048837</td>\n",
       "    </tr>\n",
       "    <tr>\n",
       "      <th>2013-03-31</th>\n",
       "      <td>0.07021</td>\n",
       "      <td>0.019420</td>\n",
       "      <td>0.049822</td>\n",
       "    </tr>\n",
       "    <tr>\n",
       "      <th>2013-06-30</th>\n",
       "      <td>0.08104</td>\n",
       "      <td>0.011844</td>\n",
       "      <td>0.068386</td>\n",
       "    </tr>\n",
       "    <tr>\n",
       "      <th>2013-09-30</th>\n",
       "      <td>0.09118</td>\n",
       "      <td>0.006210</td>\n",
       "      <td>0.084445</td>\n",
       "    </tr>\n",
       "    <tr>\n",
       "      <th>2013-12-31</th>\n",
       "      <td>0.09957</td>\n",
       "      <td>0.020433</td>\n",
       "      <td>0.077552</td>\n",
       "    </tr>\n",
       "    <tr>\n",
       "      <th>2014-03-31</th>\n",
       "      <td>0.10743</td>\n",
       "      <td>0.021752</td>\n",
       "      <td>0.083854</td>\n",
       "    </tr>\n",
       "    <tr>\n",
       "      <th>2014-06-30</th>\n",
       "      <td>0.10814</td>\n",
       "      <td>0.015376</td>\n",
       "      <td>0.091359</td>\n",
       "    </tr>\n",
       "    <tr>\n",
       "      <th>2014-09-30</th>\n",
       "      <td>0.10835</td>\n",
       "      <td>0.008315</td>\n",
       "      <td>0.099210</td>\n",
       "    </tr>\n",
       "  </tbody>\n",
       "</table>\n",
       "</div>"
      ],
      "text/plain": [
       "                 rf      IPCA   rf_real\n",
       "2012-06-30  0.08089       NaN       NaN\n",
       "2012-09-30  0.07293  0.014166  0.057944\n",
       "2012-12-31  0.06974  0.019930  0.048837\n",
       "2013-03-31  0.07021  0.019420  0.049822\n",
       "2013-06-30  0.08104  0.011844  0.068386\n",
       "2013-09-30  0.09118  0.006210  0.084445\n",
       "2013-12-31  0.09957  0.020433  0.077552\n",
       "2014-03-31  0.10743  0.021752  0.083854\n",
       "2014-06-30  0.10814  0.015376  0.091359\n",
       "2014-09-30  0.10835  0.008315  0.099210"
      ]
     },
     "execution_count": 160,
     "metadata": {},
     "output_type": "execute_result"
    }
   ],
   "source": [
    "futurodi.head(10)"
   ]
  },
  {
   "cell_type": "markdown",
   "metadata": {},
   "source": [
    "### Consumo Real per capita Desazonalizado"
   ]
  },
  {
   "cell_type": "code",
   "execution_count": 161,
   "metadata": {},
   "outputs": [],
   "source": [
    "consumo = pd.read_csv('real_consumption_seasonally_adjusted.csv', sep=',', index_col=0)\n",
    "pop = pd.read_csv('population.csv', sep=',', index_col=0)"
   ]
  },
  {
   "cell_type": "code",
   "execution_count": 162,
   "metadata": {},
   "outputs": [],
   "source": [
    "# função que torna o índice um objeto de data\n",
    "consumo.index = pd.to_datetime(consumo.index)\n",
    "pop.index = pd.to_datetime(pop.index)"
   ]
  },
  {
   "cell_type": "code",
   "execution_count": 163,
   "metadata": {},
   "outputs": [],
   "source": [
    "quarters_ = consumo.index"
   ]
  },
  {
   "cell_type": "code",
   "execution_count": 164,
   "metadata": {},
   "outputs": [],
   "source": [
    "pop = pd.DataFrame(pop, index = quarters_)"
   ]
  },
  {
   "cell_type": "code",
   "execution_count": 165,
   "metadata": {},
   "outputs": [
    {
     "data": {
      "text/html": [
       "<div>\n",
       "<style scoped>\n",
       "    .dataframe tbody tr th:only-of-type {\n",
       "        vertical-align: middle;\n",
       "    }\n",
       "\n",
       "    .dataframe tbody tr th {\n",
       "        vertical-align: top;\n",
       "    }\n",
       "\n",
       "    .dataframe thead th {\n",
       "        text-align: right;\n",
       "    }\n",
       "</style>\n",
       "<table border=\"1\" class=\"dataframe\">\n",
       "  <thead>\n",
       "    <tr style=\"text-align: right;\">\n",
       "      <th></th>\n",
       "      <th>POPTOTBRA647NWDB</th>\n",
       "    </tr>\n",
       "    <tr>\n",
       "      <th>DATE</th>\n",
       "      <th></th>\n",
       "    </tr>\n",
       "  </thead>\n",
       "  <tbody>\n",
       "    <tr>\n",
       "      <th>2012-01-01</th>\n",
       "      <td>199287292.0</td>\n",
       "    </tr>\n",
       "    <tr>\n",
       "      <th>2012-04-01</th>\n",
       "      <td>NaN</td>\n",
       "    </tr>\n",
       "    <tr>\n",
       "      <th>2012-07-01</th>\n",
       "      <td>NaN</td>\n",
       "    </tr>\n",
       "    <tr>\n",
       "      <th>2012-10-01</th>\n",
       "      <td>NaN</td>\n",
       "    </tr>\n",
       "    <tr>\n",
       "      <th>2013-01-01</th>\n",
       "      <td>201035904.0</td>\n",
       "    </tr>\n",
       "    <tr>\n",
       "      <th>2013-04-01</th>\n",
       "      <td>NaN</td>\n",
       "    </tr>\n",
       "    <tr>\n",
       "      <th>2013-07-01</th>\n",
       "      <td>NaN</td>\n",
       "    </tr>\n",
       "    <tr>\n",
       "      <th>2013-10-01</th>\n",
       "      <td>NaN</td>\n",
       "    </tr>\n",
       "    <tr>\n",
       "      <th>2014-01-01</th>\n",
       "      <td>202763744.0</td>\n",
       "    </tr>\n",
       "    <tr>\n",
       "      <th>2014-04-01</th>\n",
       "      <td>NaN</td>\n",
       "    </tr>\n",
       "  </tbody>\n",
       "</table>\n",
       "</div>"
      ],
      "text/plain": [
       "            POPTOTBRA647NWDB\n",
       "DATE                        \n",
       "2012-01-01       199287292.0\n",
       "2012-04-01               NaN\n",
       "2012-07-01               NaN\n",
       "2012-10-01               NaN\n",
       "2013-01-01       201035904.0\n",
       "2013-04-01               NaN\n",
       "2013-07-01               NaN\n",
       "2013-10-01               NaN\n",
       "2014-01-01       202763744.0\n",
       "2014-04-01               NaN"
      ]
     },
     "execution_count": 165,
     "metadata": {},
     "output_type": "execute_result"
    }
   ],
   "source": [
    "pop.head(10)"
   ]
  },
  {
   "cell_type": "markdown",
   "metadata": {},
   "source": [
    "Como os dados de população são ofertados apenas com periodicidade anual, vamos supor que o crescimento trimestral $\\Delta L_t / L_t$ foi uniforme, isto é, mesma taxa de crescimento entre os trimestres:\n",
    "\n",
    "$$\n",
    "\\frac{\\Delta L_{t}}{L_t} = \\left(1+\\frac{\\Delta L_{4t}}{L_{4t}}\\right)^{\\frac{1}{4}} - 1\n",
    "$$"
   ]
  },
  {
   "cell_type": "markdown",
   "metadata": {},
   "source": [
    "onde \n",
    "\n",
    "$$\n",
    "\\frac{\\Delta L_{4t}}{L_{4t}}\n",
    "$$\n",
    "\n",
    "é a taxa de crescimento populacional anual."
   ]
  },
  {
   "cell_type": "markdown",
   "metadata": {},
   "source": [
    "Uma outra ressalva é que os dados populacionais vão até o primeiro trimestre de 2021. Teremos então que a população estimada para os trimestres posteriores serão a partir da taxa de crescimento entre 2020 e 2021 e a população constatada em 2021."
   ]
  },
  {
   "cell_type": "code",
   "execution_count": 166,
   "metadata": {},
   "outputs": [],
   "source": [
    "pop['POP_{t-1}'] = pop['POPTOTBRA647NWDB'].shift(4)"
   ]
  },
  {
   "cell_type": "code",
   "execution_count": 167,
   "metadata": {},
   "outputs": [],
   "source": [
    "pop['taxa_anual'] = (pop['POPTOTBRA647NWDB'] - pop['POP_{t-1}'])/pop['POP_{t-1}']"
   ]
  },
  {
   "cell_type": "code",
   "execution_count": 168,
   "metadata": {},
   "outputs": [],
   "source": [
    "pop['taxa_trimestral'] = np.nan"
   ]
  },
  {
   "cell_type": "code",
   "execution_count": 169,
   "metadata": {},
   "outputs": [],
   "source": [
    "for i in range(len(pop)):\n",
    "    if math.isnan(pop['taxa_anual'][i]) == False:\n",
    "        pop['taxa_trimestral'][i-1] = (1 + pop['taxa_anual'][i])**(1/4) - 1        \n",
    "        pop['taxa_trimestral'][i-2] = (1 + pop['taxa_anual'][i])**(1/4) - 1\n",
    "        pop['taxa_trimestral'][i-3] = (1 + pop['taxa_anual'][i])**(1/4) - 1\n",
    "        pop['taxa_trimestral'][i-4] = (1 + pop['taxa_anual'][i])**(1/4) - 1\n",
    "    else:\n",
    "        continue"
   ]
  },
  {
   "cell_type": "code",
   "execution_count": 170,
   "metadata": {},
   "outputs": [],
   "source": [
    "normalize_nan(pop['taxa_trimestral'])"
   ]
  },
  {
   "cell_type": "code",
   "execution_count": 171,
   "metadata": {},
   "outputs": [],
   "source": [
    "pop['pop_estimada'] = np.nan"
   ]
  },
  {
   "cell_type": "code",
   "execution_count": 172,
   "metadata": {},
   "outputs": [],
   "source": [
    "for i in range(len(pop)):\n",
    "    if math.isnan(pop['POPTOTBRA647NWDB'][i]) == False:\n",
    "        pop['pop_estimada'][i] = pop['POPTOTBRA647NWDB'][i]\n",
    "    else:\n",
    "        pop['pop_estimada'][i] = pop['pop_estimada'][i-1]*(1+pop['taxa_trimestral'][i-1])"
   ]
  },
  {
   "cell_type": "code",
   "execution_count": 173,
   "metadata": {},
   "outputs": [
    {
     "data": {
      "text/html": [
       "<div>\n",
       "<style scoped>\n",
       "    .dataframe tbody tr th:only-of-type {\n",
       "        vertical-align: middle;\n",
       "    }\n",
       "\n",
       "    .dataframe tbody tr th {\n",
       "        vertical-align: top;\n",
       "    }\n",
       "\n",
       "    .dataframe thead th {\n",
       "        text-align: right;\n",
       "    }\n",
       "</style>\n",
       "<table border=\"1\" class=\"dataframe\">\n",
       "  <thead>\n",
       "    <tr style=\"text-align: right;\">\n",
       "      <th></th>\n",
       "      <th>POPTOTBRA647NWDB</th>\n",
       "      <th>POP_{t-1}</th>\n",
       "      <th>taxa_anual</th>\n",
       "      <th>taxa_trimestral</th>\n",
       "      <th>pop_estimada</th>\n",
       "    </tr>\n",
       "    <tr>\n",
       "      <th>DATE</th>\n",
       "      <th></th>\n",
       "      <th></th>\n",
       "      <th></th>\n",
       "      <th></th>\n",
       "      <th></th>\n",
       "    </tr>\n",
       "  </thead>\n",
       "  <tbody>\n",
       "    <tr>\n",
       "      <th>2012-01-01</th>\n",
       "      <td>199287292.0</td>\n",
       "      <td>NaN</td>\n",
       "      <td>NaN</td>\n",
       "      <td>0.002186</td>\n",
       "      <td>1.992873e+08</td>\n",
       "    </tr>\n",
       "    <tr>\n",
       "      <th>2012-04-01</th>\n",
       "      <td>NaN</td>\n",
       "      <td>NaN</td>\n",
       "      <td>NaN</td>\n",
       "      <td>0.002186</td>\n",
       "      <td>1.997230e+08</td>\n",
       "    </tr>\n",
       "    <tr>\n",
       "      <th>2012-07-01</th>\n",
       "      <td>NaN</td>\n",
       "      <td>NaN</td>\n",
       "      <td>NaN</td>\n",
       "      <td>0.002186</td>\n",
       "      <td>2.001597e+08</td>\n",
       "    </tr>\n",
       "    <tr>\n",
       "      <th>2012-10-01</th>\n",
       "      <td>NaN</td>\n",
       "      <td>NaN</td>\n",
       "      <td>NaN</td>\n",
       "      <td>0.002186</td>\n",
       "      <td>2.005973e+08</td>\n",
       "    </tr>\n",
       "    <tr>\n",
       "      <th>2013-01-01</th>\n",
       "      <td>201035904.0</td>\n",
       "      <td>199287292.0</td>\n",
       "      <td>0.008774</td>\n",
       "      <td>0.002142</td>\n",
       "      <td>2.010359e+08</td>\n",
       "    </tr>\n",
       "    <tr>\n",
       "      <th>2013-04-01</th>\n",
       "      <td>NaN</td>\n",
       "      <td>NaN</td>\n",
       "      <td>NaN</td>\n",
       "      <td>0.002142</td>\n",
       "      <td>2.014665e+08</td>\n",
       "    </tr>\n",
       "    <tr>\n",
       "      <th>2013-07-01</th>\n",
       "      <td>NaN</td>\n",
       "      <td>NaN</td>\n",
       "      <td>NaN</td>\n",
       "      <td>0.002142</td>\n",
       "      <td>2.018980e+08</td>\n",
       "    </tr>\n",
       "    <tr>\n",
       "      <th>2013-10-01</th>\n",
       "      <td>NaN</td>\n",
       "      <td>NaN</td>\n",
       "      <td>NaN</td>\n",
       "      <td>0.002142</td>\n",
       "      <td>2.023304e+08</td>\n",
       "    </tr>\n",
       "    <tr>\n",
       "      <th>2014-01-01</th>\n",
       "      <td>202763744.0</td>\n",
       "      <td>201035904.0</td>\n",
       "      <td>0.008595</td>\n",
       "      <td>0.002099</td>\n",
       "      <td>2.027637e+08</td>\n",
       "    </tr>\n",
       "    <tr>\n",
       "      <th>2014-04-01</th>\n",
       "      <td>NaN</td>\n",
       "      <td>NaN</td>\n",
       "      <td>NaN</td>\n",
       "      <td>0.002099</td>\n",
       "      <td>2.031894e+08</td>\n",
       "    </tr>\n",
       "  </tbody>\n",
       "</table>\n",
       "</div>"
      ],
      "text/plain": [
       "            POPTOTBRA647NWDB    POP_{t-1}  taxa_anual  taxa_trimestral  \\\n",
       "DATE                                                                     \n",
       "2012-01-01       199287292.0          NaN         NaN         0.002186   \n",
       "2012-04-01               NaN          NaN         NaN         0.002186   \n",
       "2012-07-01               NaN          NaN         NaN         0.002186   \n",
       "2012-10-01               NaN          NaN         NaN         0.002186   \n",
       "2013-01-01       201035904.0  199287292.0    0.008774         0.002142   \n",
       "2013-04-01               NaN          NaN         NaN         0.002142   \n",
       "2013-07-01               NaN          NaN         NaN         0.002142   \n",
       "2013-10-01               NaN          NaN         NaN         0.002142   \n",
       "2014-01-01       202763744.0  201035904.0    0.008595         0.002099   \n",
       "2014-04-01               NaN          NaN         NaN         0.002099   \n",
       "\n",
       "            pop_estimada  \n",
       "DATE                      \n",
       "2012-01-01  1.992873e+08  \n",
       "2012-04-01  1.997230e+08  \n",
       "2012-07-01  2.001597e+08  \n",
       "2012-10-01  2.005973e+08  \n",
       "2013-01-01  2.010359e+08  \n",
       "2013-04-01  2.014665e+08  \n",
       "2013-07-01  2.018980e+08  \n",
       "2013-10-01  2.023304e+08  \n",
       "2014-01-01  2.027637e+08  \n",
       "2014-04-01  2.031894e+08  "
      ]
     },
     "execution_count": 173,
     "metadata": {},
     "output_type": "execute_result"
    }
   ],
   "source": [
    "pop.head(10)"
   ]
  },
  {
   "cell_type": "code",
   "execution_count": 174,
   "metadata": {},
   "outputs": [],
   "source": [
    "consumo['pop'] = pop['pop_estimada']"
   ]
  },
  {
   "cell_type": "code",
   "execution_count": 175,
   "metadata": {},
   "outputs": [],
   "source": [
    "consumo['consumo_percapita'] = consumo['NAEXKP02BRQ189S']/consumo['pop']"
   ]
  },
  {
   "cell_type": "markdown",
   "metadata": {},
   "source": [
    "A taxa de crescimento do consumo pode ser obtida através de\n",
    "\n",
    "$$\n",
    "\\Delta c_t = \\ln\\left(\\frac{C_t}{C_{t-1}}\\right)\n",
    "$$"
   ]
  },
  {
   "cell_type": "code",
   "execution_count": 176,
   "metadata": {},
   "outputs": [],
   "source": [
    "consumo['consumo_percapita_{t-1}'] = consumo['consumo_percapita'].shift(1)"
   ]
  },
  {
   "cell_type": "code",
   "execution_count": 177,
   "metadata": {},
   "outputs": [],
   "source": [
    "consumo['Delta_c'] = np.log(consumo['consumo_percapita']/consumo['consumo_percapita_{t-1}'])"
   ]
  },
  {
   "cell_type": "markdown",
   "metadata": {},
   "source": [
    "Como 2012-04-01 representa o consumo no segundo trimetre de 2012 no dataframe de consumo e 2012-06-30 representa o fechamento do Ibovespa do segundo trimestre de 2012. Então temos que as datas estão representando períodos diferentes entre os dataframes. Vamos normalizar isso"
   ]
  },
  {
   "cell_type": "code",
   "execution_count": 178,
   "metadata": {},
   "outputs": [],
   "source": [
    "consumo = consumo[1:]"
   ]
  },
  {
   "cell_type": "code",
   "execution_count": 179,
   "metadata": {},
   "outputs": [],
   "source": [
    "# normalizando o índice para os três dataframes ficarem iguais\n",
    "consumo['index'] = ibov.index"
   ]
  },
  {
   "cell_type": "code",
   "execution_count": 180,
   "metadata": {},
   "outputs": [],
   "source": [
    "consumo = consumo.set_index('index')"
   ]
  },
  {
   "cell_type": "code",
   "execution_count": 183,
   "metadata": {},
   "outputs": [
    {
     "data": {
      "text/html": [
       "<div>\n",
       "<style scoped>\n",
       "    .dataframe tbody tr th:only-of-type {\n",
       "        vertical-align: middle;\n",
       "    }\n",
       "\n",
       "    .dataframe tbody tr th {\n",
       "        vertical-align: top;\n",
       "    }\n",
       "\n",
       "    .dataframe thead th {\n",
       "        text-align: right;\n",
       "    }\n",
       "</style>\n",
       "<table border=\"1\" class=\"dataframe\">\n",
       "  <thead>\n",
       "    <tr style=\"text-align: right;\">\n",
       "      <th></th>\n",
       "      <th>NAEXKP02BRQ189S</th>\n",
       "      <th>pop</th>\n",
       "      <th>consumo_percapita</th>\n",
       "      <th>consumo_percapita_{t-1}</th>\n",
       "      <th>Delta_c</th>\n",
       "    </tr>\n",
       "    <tr>\n",
       "      <th>index</th>\n",
       "      <th></th>\n",
       "      <th></th>\n",
       "      <th></th>\n",
       "      <th></th>\n",
       "      <th></th>\n",
       "    </tr>\n",
       "  </thead>\n",
       "  <tbody>\n",
       "    <tr>\n",
       "      <th>2012-06-30</th>\n",
       "      <td>1.946165e+11</td>\n",
       "      <td>1.997230e+08</td>\n",
       "      <td>974.432202</td>\n",
       "      <td>969.080023</td>\n",
       "      <td>0.005508</td>\n",
       "    </tr>\n",
       "    <tr>\n",
       "      <th>2012-09-30</th>\n",
       "      <td>1.971950e+11</td>\n",
       "      <td>2.001597e+08</td>\n",
       "      <td>985.188204</td>\n",
       "      <td>974.432202</td>\n",
       "      <td>0.010978</td>\n",
       "    </tr>\n",
       "    <tr>\n",
       "      <th>2012-12-31</th>\n",
       "      <td>1.993447e+11</td>\n",
       "      <td>2.005973e+08</td>\n",
       "      <td>993.755424</td>\n",
       "      <td>985.188204</td>\n",
       "      <td>0.008658</td>\n",
       "    </tr>\n",
       "    <tr>\n",
       "      <th>2013-03-31</th>\n",
       "      <td>2.003120e+11</td>\n",
       "      <td>2.010359e+08</td>\n",
       "      <td>996.399101</td>\n",
       "      <td>993.755424</td>\n",
       "      <td>0.002657</td>\n",
       "    </tr>\n",
       "    <tr>\n",
       "      <th>2013-06-30</th>\n",
       "      <td>2.029082e+11</td>\n",
       "      <td>2.014665e+08</td>\n",
       "      <td>1007.156136</td>\n",
       "      <td>996.399101</td>\n",
       "      <td>0.010738</td>\n",
       "    </tr>\n",
       "    <tr>\n",
       "      <th>2013-09-30</th>\n",
       "      <td>2.042542e+11</td>\n",
       "      <td>2.018980e+08</td>\n",
       "      <td>1011.670265</td>\n",
       "      <td>1007.156136</td>\n",
       "      <td>0.004472</td>\n",
       "    </tr>\n",
       "    <tr>\n",
       "      <th>2013-12-31</th>\n",
       "      <td>2.040599e+11</td>\n",
       "      <td>2.023304e+08</td>\n",
       "      <td>1008.547673</td>\n",
       "      <td>1011.670265</td>\n",
       "      <td>-0.003091</td>\n",
       "    </tr>\n",
       "    <tr>\n",
       "      <th>2014-03-31</th>\n",
       "      <td>2.073897e+11</td>\n",
       "      <td>2.027637e+08</td>\n",
       "      <td>1022.814570</td>\n",
       "      <td>1008.547673</td>\n",
       "      <td>0.014047</td>\n",
       "    </tr>\n",
       "    <tr>\n",
       "      <th>2014-06-30</th>\n",
       "      <td>2.062680e+11</td>\n",
       "      <td>2.031894e+08</td>\n",
       "      <td>1015.151529</td>\n",
       "      <td>1022.814570</td>\n",
       "      <td>-0.007520</td>\n",
       "    </tr>\n",
       "    <tr>\n",
       "      <th>2014-09-30</th>\n",
       "      <td>2.065748e+11</td>\n",
       "      <td>2.036160e+08</td>\n",
       "      <td>1014.531540</td>\n",
       "      <td>1015.151529</td>\n",
       "      <td>-0.000611</td>\n",
       "    </tr>\n",
       "  </tbody>\n",
       "</table>\n",
       "</div>"
      ],
      "text/plain": [
       "            NAEXKP02BRQ189S           pop  consumo_percapita  \\\n",
       "index                                                          \n",
       "2012-06-30     1.946165e+11  1.997230e+08         974.432202   \n",
       "2012-09-30     1.971950e+11  2.001597e+08         985.188204   \n",
       "2012-12-31     1.993447e+11  2.005973e+08         993.755424   \n",
       "2013-03-31     2.003120e+11  2.010359e+08         996.399101   \n",
       "2013-06-30     2.029082e+11  2.014665e+08        1007.156136   \n",
       "2013-09-30     2.042542e+11  2.018980e+08        1011.670265   \n",
       "2013-12-31     2.040599e+11  2.023304e+08        1008.547673   \n",
       "2014-03-31     2.073897e+11  2.027637e+08        1022.814570   \n",
       "2014-06-30     2.062680e+11  2.031894e+08        1015.151529   \n",
       "2014-09-30     2.065748e+11  2.036160e+08        1014.531540   \n",
       "\n",
       "            consumo_percapita_{t-1}   Delta_c  \n",
       "index                                          \n",
       "2012-06-30               969.080023  0.005508  \n",
       "2012-09-30               974.432202  0.010978  \n",
       "2012-12-31               985.188204  0.008658  \n",
       "2013-03-31               993.755424  0.002657  \n",
       "2013-06-30               996.399101  0.010738  \n",
       "2013-09-30              1007.156136  0.004472  \n",
       "2013-12-31              1011.670265 -0.003091  \n",
       "2014-03-31              1008.547673  0.014047  \n",
       "2014-06-30              1022.814570 -0.007520  \n",
       "2014-09-30              1015.151529 -0.000611  "
      ]
     },
     "execution_count": 183,
     "metadata": {},
     "output_type": "execute_result"
    }
   ],
   "source": [
    "consumo.head(10)"
   ]
  },
  {
   "cell_type": "markdown",
   "metadata": {},
   "source": [
    "### DataFrame final"
   ]
  },
  {
   "cell_type": "code",
   "execution_count": 189,
   "metadata": {},
   "outputs": [],
   "source": [
    "df = pd.DataFrame(index = ibov.index)"
   ]
  },
  {
   "cell_type": "code",
   "execution_count": 191,
   "metadata": {},
   "outputs": [],
   "source": [
    "df['r_e'] = ibov['re_real']\n",
    "df['r_f'] = futurodi['rf_real']\n",
    "df['Delta_c'] = consumo['Delta_c']"
   ]
  },
  {
   "cell_type": "code",
   "execution_count": 202,
   "metadata": {},
   "outputs": [
    {
     "data": {
      "text/html": [
       "<div>\n",
       "<style scoped>\n",
       "    .dataframe tbody tr th:only-of-type {\n",
       "        vertical-align: middle;\n",
       "    }\n",
       "\n",
       "    .dataframe tbody tr th {\n",
       "        vertical-align: top;\n",
       "    }\n",
       "\n",
       "    .dataframe thead th {\n",
       "        text-align: right;\n",
       "    }\n",
       "</style>\n",
       "<table border=\"1\" class=\"dataframe\">\n",
       "  <thead>\n",
       "    <tr style=\"text-align: right;\">\n",
       "      <th></th>\n",
       "      <th>r_e</th>\n",
       "      <th>r_f</th>\n",
       "      <th>Delta_c</th>\n",
       "    </tr>\n",
       "  </thead>\n",
       "  <tbody>\n",
       "    <tr>\n",
       "      <th>2012-06-30</th>\n",
       "      <td>NaN</td>\n",
       "      <td>NaN</td>\n",
       "      <td>0.005508</td>\n",
       "    </tr>\n",
       "    <tr>\n",
       "      <th>2012-09-30</th>\n",
       "      <td>0.366398</td>\n",
       "      <td>0.057944</td>\n",
       "      <td>0.010978</td>\n",
       "    </tr>\n",
       "    <tr>\n",
       "      <th>2012-12-31</th>\n",
       "      <td>0.101677</td>\n",
       "      <td>0.048837</td>\n",
       "      <td>0.008658</td>\n",
       "    </tr>\n",
       "    <tr>\n",
       "      <th>2013-03-31</th>\n",
       "      <td>-0.292565</td>\n",
       "      <td>0.049822</td>\n",
       "      <td>0.002657</td>\n",
       "    </tr>\n",
       "    <tr>\n",
       "      <th>2013-06-30</th>\n",
       "      <td>-0.535013</td>\n",
       "      <td>0.068386</td>\n",
       "      <td>0.010738</td>\n",
       "    </tr>\n",
       "    <tr>\n",
       "      <th>2013-09-30</th>\n",
       "      <td>0.443977</td>\n",
       "      <td>0.084445</td>\n",
       "      <td>0.004472</td>\n",
       "    </tr>\n",
       "    <tr>\n",
       "      <th>2013-12-31</th>\n",
       "      <td>-0.081272</td>\n",
       "      <td>0.077552</td>\n",
       "      <td>-0.003091</td>\n",
       "    </tr>\n",
       "    <tr>\n",
       "      <th>2014-03-31</th>\n",
       "      <td>-0.102522</td>\n",
       "      <td>0.083854</td>\n",
       "      <td>0.014047</td>\n",
       "    </tr>\n",
       "    <tr>\n",
       "      <th>2014-06-30</th>\n",
       "      <td>0.211612</td>\n",
       "      <td>0.091359</td>\n",
       "      <td>-0.007520</td>\n",
       "    </tr>\n",
       "    <tr>\n",
       "      <th>2014-09-30</th>\n",
       "      <td>0.063744</td>\n",
       "      <td>0.099210</td>\n",
       "      <td>-0.000611</td>\n",
       "    </tr>\n",
       "  </tbody>\n",
       "</table>\n",
       "</div>"
      ],
      "text/plain": [
       "                 r_e       r_f   Delta_c\n",
       "2012-06-30       NaN       NaN  0.005508\n",
       "2012-09-30  0.366398  0.057944  0.010978\n",
       "2012-12-31  0.101677  0.048837  0.008658\n",
       "2013-03-31 -0.292565  0.049822  0.002657\n",
       "2013-06-30 -0.535013  0.068386  0.010738\n",
       "2013-09-30  0.443977  0.084445  0.004472\n",
       "2013-12-31 -0.081272  0.077552 -0.003091\n",
       "2014-03-31 -0.102522  0.083854  0.014047\n",
       "2014-06-30  0.211612  0.091359 -0.007520\n",
       "2014-09-30  0.063744  0.099210 -0.000611"
      ]
     },
     "execution_count": 202,
     "metadata": {},
     "output_type": "execute_result"
    }
   ],
   "source": [
    "df.head(10)"
   ]
  },
  {
   "cell_type": "markdown",
   "metadata": {},
   "source": [
    "#### Construção da Tabela 6.1"
   ]
  },
  {
   "cell_type": "code",
   "execution_count": 194,
   "metadata": {},
   "outputs": [],
   "source": [
    "# teremos que re é o retorno real do ibovespa, rf o retorno real do ativo livre de risco e c representa a taxa de crescimento real do consumo per capita\n",
    "# mean(), std() e ro() representam respectivamente, os operadores da média, desvio padrão e coeficiente de autocorrelação com uma defasagem\n",
    "Tabela_6_1 = pd.DataFrame(\n",
    "    columns=['sample period', 'mean(re)', 'std(re)', 'ro(re)', 'mean(rf)', 'std(rf)', 'ro(rf)', 'mean(c)', 'std(c)', 'ro(c)'],\n",
    "    index = ['Brazil']\n",
    ")"
   ]
  },
  {
   "cell_type": "code",
   "execution_count": 195,
   "metadata": {},
   "outputs": [],
   "source": [
    "# Período dos dados\n",
    "Tabela_6_1['sample period'] = '2012Q2-2022Q2'"
   ]
  },
  {
   "cell_type": "code",
   "execution_count": 196,
   "metadata": {},
   "outputs": [],
   "source": [
    "# dados do re\n",
    "Tabela_6_1['mean(re)'] = df['r_e'].mean()*100\n",
    "Tabela_6_1['std(re)'] = df['r_e'].std()*100\n",
    "Tabela_6_1['ro(re)'] = df['r_e'].autocorr(lag=1)"
   ]
  },
  {
   "cell_type": "code",
   "execution_count": 197,
   "metadata": {},
   "outputs": [],
   "source": [
    "# dados do rf\n",
    "Tabela_6_1['mean(rf)'] = df['r_f'].mean()*100\n",
    "Tabela_6_1['std(rf)'] = df['r_f'].std()*100\n",
    "Tabela_6_1['ro(rf)'] = df['r_f'].autocorr(lag=1)"
   ]
  },
  {
   "cell_type": "code",
   "execution_count": 198,
   "metadata": {},
   "outputs": [],
   "source": [
    "# dados consumo\n",
    "Tabela_6_1['mean(c)'] = df['Delta_c'].mean()*100\n",
    "Tabela_6_1['std(c)'] = df['Delta_c'].std()*100\n",
    "Tabela_6_1['ro(c)'] = df['Delta_c'].autocorr(lag=1)"
   ]
  },
  {
   "cell_type": "code",
   "execution_count": 199,
   "metadata": {},
   "outputs": [
    {
     "data": {
      "text/html": [
       "<div>\n",
       "<style scoped>\n",
       "    .dataframe tbody tr th:only-of-type {\n",
       "        vertical-align: middle;\n",
       "    }\n",
       "\n",
       "    .dataframe tbody tr th {\n",
       "        vertical-align: top;\n",
       "    }\n",
       "\n",
       "    .dataframe thead th {\n",
       "        text-align: right;\n",
       "    }\n",
       "</style>\n",
       "<table border=\"1\" class=\"dataframe\">\n",
       "  <thead>\n",
       "    <tr style=\"text-align: right;\">\n",
       "      <th></th>\n",
       "      <th>sample period</th>\n",
       "      <th>mean(re)</th>\n",
       "      <th>std(re)</th>\n",
       "      <th>ro(re)</th>\n",
       "      <th>mean(rf)</th>\n",
       "      <th>std(rf)</th>\n",
       "      <th>ro(rf)</th>\n",
       "      <th>mean(c)</th>\n",
       "      <th>std(c)</th>\n",
       "      <th>ro(c)</th>\n",
       "    </tr>\n",
       "  </thead>\n",
       "  <tbody>\n",
       "    <tr>\n",
       "      <th>Brazil</th>\n",
       "      <td>2012Q2-2022Q2</td>\n",
       "      <td>13.692573</td>\n",
       "      <td>48.839237</td>\n",
       "      <td>-0.374858</td>\n",
       "      <td>6.948582</td>\n",
       "      <td>3.626798</td>\n",
       "      <td>0.91811</td>\n",
       "      <td>0.026364</td>\n",
       "      <td>2.466657</td>\n",
       "      <td>-0.124133</td>\n",
       "    </tr>\n",
       "  </tbody>\n",
       "</table>\n",
       "</div>"
      ],
      "text/plain": [
       "        sample period   mean(re)    std(re)    ro(re)  mean(rf)   std(rf)  \\\n",
       "Brazil  2012Q2-2022Q2  13.692573  48.839237 -0.374858  6.948582  3.626798   \n",
       "\n",
       "         ro(rf)   mean(c)    std(c)     ro(c)  \n",
       "Brazil  0.91811  0.026364  2.466657 -0.124133  "
      ]
     },
     "execution_count": 199,
     "metadata": {},
     "output_type": "execute_result"
    }
   ],
   "source": [
    "Tabela_6_1"
   ]
  },
  {
   "cell_type": "markdown",
   "metadata": {},
   "source": [
    "### Tabela 6.2 - The equity premium puzzle\n",
    "Nesta tabela serão computados o arithmetic average excess stock return $aer_e$, o desvio padrão do excesso de retorno das ações em log $\\sigma (er_e)$, o limite inferior de $\\sigma(\\ln(M_{t+1,t}))$ denotado por $\\sigma(m)$, desvio padrão da taxa de crescimento do consumo $\\sigma(\\Delta c)$ que foi computada na Tabela 6.1, o coefiente correlação entre as séries de excesso de retorno das ações e taxa de crescimento do consumo $\\rho(er_e,\\Delta c)$. Por fim, são apresentados por dois métodos diferentes a estimação do coeficiente de aversão relativa ao risco $RRA(1)$ e $RRA(2)$ (Relative Risk Aversion), respectivamente."
   ]
  },
  {
   "cell_type": "markdown",
   "metadata": {},
   "source": [
    "Assumindo que o consumidor representativo tem utilidade separável no tempo do tipo CRRA (Constant Relative Risk Aversion) como se segue\n",
    "\n",
    "$$\n",
    "U_i(c) = \\mathbb{E}\\left(\\sum_{t=0}^T \\beta^t \\frac{C_t^{1-\\gamma} - 1}{1-\\gamma}\\right)\n",
    "$$"
   ]
  },
  {
   "cell_type": "markdown",
   "metadata": {},
   "source": [
    "Após a derivação do fator estocástico de desconto chegamos que\n",
    "\n",
    "$$\n",
    "M_{t+1,t} = \\frac{\\pi_{t+1}}{\\pi_t} = \\beta \\frac{u_i'(C_{t+1})}{u_i'(C_t)}\n",
    "$$"
   ]
  },
  {
   "cell_type": "markdown",
   "metadata": {},
   "source": [
    "Portanto,\n",
    "\n",
    "$$\n",
    "M_{t+1,t} = \\beta \\left(\\frac{C_{t+1}}{C_t}\\right)^{-\\gamma}\n",
    "$$"
   ]
  },
  {
   "cell_type": "markdown",
   "metadata": {},
   "source": [
    "Aplicando o logaritmo neperiano $\\ln(\\cdot)$ e definindo $m_{t+1,t} = \\ln(M_{t+1,t})$ e $\\Delta c_{t+1} = \\ln\\left(\\frac{C_{t+1}}{C_t}\\right)$\n",
    "\n",
    "$$\n",
    "m_{t+1,t} = \\ln(\\beta) - \\gamma \\Delta c_{t+1} \\tag{1}\n",
    "$$"
   ]
  },
  {
   "cell_type": "markdown",
   "metadata": {},
   "source": [
    "Partindo do Valor Presente Descontado sob ausência de arbitragem\n",
    "\n",
    "$$\n",
    "\\mathbb{E}_t[M_{t+1,t} R_{t+1}^j] = 1\n",
    "$$\n",
    "\n",
    "$$\n",
    "\\ln(\\mathbb{E}_t[M_{t+1,t} R_{t+1}^j]) = \\ln(1) = 0\n",
    "$$\n",
    "\n",
    "$$\n",
    "\\ln(\\mathbb{E}_t[\\exp(\\ln(M_{t+1,t} R_{t+1}^j))]) = 0\n",
    "$$\n",
    "\n",
    "$$\n",
    "\\ln(\\mathbb{E}_t[\\exp(\\ln(M_{t+1,t}) + \\ln(R_{t+1}^j))]) = 0\n",
    "$$\n",
    "\n",
    "Como $m_{t+1,t} = \\ln(M_{t+1,t})$ e também $r_{t+1}^j \\approx \\ln(R_{t+1}^j)$\n",
    "$$\n",
    "\\ln(\\mathbb{E}_t[\\exp(m_{t+1,t} + r_{t+1}^j)]) = 0\n",
    "$$\n",
    "\n",
    "onde $\\mathbb{E}_t[\\exp(m_{t+1,t} + r_{t+1}^j)]$ nada mais é do que a função geradora de momentos de $m_{t+1,t} + r_{t+1}^j$ para $t=1$\n",
    "\n",
    "$$\n",
    "M_X (t) = \\mathbb{E}[e^{tX}]\n",
    "$$"
   ]
  },
  {
   "cell_type": "markdown",
   "metadata": {},
   "source": [
    "Sob a hipótese de lognormalidade homocedástica do fator estocástico de desconto e dos retornos\n",
    "\n",
    "$$\n",
    "\\ln(M_{t+1,t} R_{t+1}^j) \\sim N(\\cdot) \\Leftrightarrow m_{t+1,t} + r_{t+1}^j \\sim N(\\cdot)\n",
    "$$\n"
   ]
  },
  {
   "cell_type": "markdown",
   "metadata": {},
   "source": [
    "Uma propriedade de uma variável aleatória distribuída normalmente $X \\sim N(\\mu,\\sigma^2)$ é que sua função geradora de momentos é \n",
    "\n",
    "$$\n",
    "M_X (t) = \\mathbb{E}[e^{tX}] = \\exp(\\mu t + \\frac{\\sigma^2}{2} t^2)\n",
    "$$"
   ]
  },
  {
   "cell_type": "markdown",
   "metadata": {},
   "source": [
    "Portanto\n",
    "\n",
    "$$\n",
    "\\ln(\\mathbb{E}_t[\\exp(m_{t+1,t} + r_{t+1}^j)]) = 0\n",
    "$$\n",
    "\n",
    "$$\n",
    "\\ln(\\exp(\\mathbb{E}[m_{t+1,t} + r_{t+1}^j] + \\frac{1}{2} \\mathbb{V}[m_{t+1,t} + r_{t+1}^j])) = 0\n",
    "$$\n",
    "\n",
    "$$\n",
    "\\mathbb{E}[m_{t+1,t} + r_{t+1}^j] + \\frac{1}{2}\\left(\\mathbb{V}[m_{t+1,t}] + \\mathbb{V}[r_{t+1}^j] + 2\\mathbb{C}[m_{t+1,t},r_{t+1}^j]\\right) = 0 \n",
    "\\tag{2}\n",
    "$$"
   ]
  },
  {
   "cell_type": "markdown",
   "metadata": {},
   "source": [
    "Substituindo $(1)$ em $(2)$, temos\n",
    "\n",
    "$$\n",
    "\\mathbb{E}[r_{t+1}^j] + \\ln(\\beta) -\\gamma\\mathbb{E}[\\Delta c_{t+1}] + \\frac{1}{2}\\left(\\mathbb{V}[r_{t+1}^j] + \\gamma^2\\mathbb{V}[\\Delta c_{t+1}] - 2\\gamma\\mathbb{C}[\\Delta c_{t+1},r_{t+1}^j]\\right) = 0 \n",
    "\\tag{3}\n",
    "$$"
   ]
  },
  {
   "cell_type": "markdown",
   "metadata": {},
   "source": [
    "Para um ativo livre de risco $j$ defina seu retorno por $\\mathbb{E}[r_{t+1}^j] = r_c^{t\\rightarrow t+1}$. Para esse ativo temos as seguintes propriedades \n",
    "\n",
    "$$\n",
    "\\mathbb{V}[r_{t+1}^j] = 0 \n",
    "$$\n",
    "\n",
    "$$\n",
    "\\mathbb{C}[m_{t+1,t}, r_{t+1}^j] = 0\n",
    "$$"
   ]
  },
  {
   "cell_type": "markdown",
   "metadata": {},
   "source": [
    "A equação $(2)$ se torna\n",
    "\n",
    "$$\n",
    "\\mathbb{E}[m_{t+1,t}] + r_c^{t\\rightarrow t+1} + \\frac{1}{2}\\mathbb{V}[m_{t+1,t}] = 0 \n",
    "$$\n",
    "\n",
    "$$\n",
    "r_c^{t\\rightarrow t+1} + \\ln(\\beta) - \\gamma\\mathbb{E}[\\Delta c_{t+1}] +\\frac{1}{2}\\gamma^2\\mathbb{V}[\\Delta c_{t+1}] = 0\n",
    "\\tag{4}\n",
    "$$"
   ]
  },
  {
   "cell_type": "markdown",
   "metadata": {},
   "source": [
    "Para encontra o Log do prêmio de risco basta subtrair $(4)$ de $(3)$ e teremos\n",
    "\n",
    "$$\n",
    "\\mathbb{E}[r_{t+1}^j] - r_c^{t\\rightarrow t+1} + \\frac{1}{2}\\mathbb{V}[r_{t+1}^j] -\\gamma\\mathbb{C}[\\Delta c_{t+1},r_{t+1}^j] = 0\n",
    "$$\n",
    "\n",
    "$$\n",
    "\\mathbb{E}[r_{t+1}^j] - r_c^{t\\rightarrow t+1} + \\frac{1}{2}\\mathbb{V}[r_{t+1}^j] = \\gamma\\mathbb{C}[\\Delta c_{t+1},r_{t+1}^j]\n",
    "\\tag{5}\n",
    "$$\n",
    "\n",
    "conhecido como aritmethic average excess return"
   ]
  },
  {
   "cell_type": "code",
   "execution_count": 203,
   "metadata": {},
   "outputs": [],
   "source": [
    "# aer_e é o aritmethic average excess return, er_e é o excess return, std(m) é o lower bound do desvio padrão do ln do fator estocástico\n",
    "# c representa a taxa de crescimento do consumo, RRA(1) e RRA(2) são respectivamente, a aversão relativa ao risco extraída do prêmio de risco e a aversão ao risco relativa\n",
    "Tabela_6_2 = pd.DataFrame(\n",
    "    columns=['sample period', 'mean(aer_e)', 'std(er_e)', 'std(m)', 'std(c)', 'ro(er_e,c)', 'RRA(1)', 'RRA(2)'],\n",
    "    index = ['Brazil']\n",
    ")"
   ]
  },
  {
   "cell_type": "code",
   "execution_count": 204,
   "metadata": {},
   "outputs": [],
   "source": [
    "# Período dos dados\n",
    "Tabela_6_2['sample period'] = '2012Q2-2022Q2'"
   ]
  },
  {
   "cell_type": "code",
   "execution_count": 205,
   "metadata": {},
   "outputs": [],
   "source": [
    "Tabela_6_2['mean(aer_e)'] = ((Tabela_6_1['mean(re)']/100) - (Tabela_6_1['mean(rf)']/100) + (1/2)*((Tabela_6_1['std(re)']/100)**2))*100"
   ]
  },
  {
   "cell_type": "markdown",
   "metadata": {},
   "source": [
    "Para definir o excesso de retorno das ações em log $er_e$, basta apenas\n",
    "\n",
    "$$\n",
    "er_e = r_e - r_f\n",
    "$$"
   ]
  },
  {
   "cell_type": "code",
   "execution_count": 212,
   "metadata": {},
   "outputs": [],
   "source": [
    "df['er_e'] = df['r_e'] - df['r_f']"
   ]
  },
  {
   "cell_type": "code",
   "execution_count": 215,
   "metadata": {},
   "outputs": [
    {
     "data": {
      "text/html": [
       "<div>\n",
       "<style scoped>\n",
       "    .dataframe tbody tr th:only-of-type {\n",
       "        vertical-align: middle;\n",
       "    }\n",
       "\n",
       "    .dataframe tbody tr th {\n",
       "        vertical-align: top;\n",
       "    }\n",
       "\n",
       "    .dataframe thead th {\n",
       "        text-align: right;\n",
       "    }\n",
       "</style>\n",
       "<table border=\"1\" class=\"dataframe\">\n",
       "  <thead>\n",
       "    <tr style=\"text-align: right;\">\n",
       "      <th></th>\n",
       "      <th>r_e</th>\n",
       "      <th>r_f</th>\n",
       "      <th>Delta_c</th>\n",
       "      <th>er_e</th>\n",
       "    </tr>\n",
       "  </thead>\n",
       "  <tbody>\n",
       "    <tr>\n",
       "      <th>2012-06-30</th>\n",
       "      <td>NaN</td>\n",
       "      <td>NaN</td>\n",
       "      <td>0.005508</td>\n",
       "      <td>NaN</td>\n",
       "    </tr>\n",
       "    <tr>\n",
       "      <th>2012-09-30</th>\n",
       "      <td>0.366398</td>\n",
       "      <td>0.057944</td>\n",
       "      <td>0.010978</td>\n",
       "      <td>0.308454</td>\n",
       "    </tr>\n",
       "    <tr>\n",
       "      <th>2012-12-31</th>\n",
       "      <td>0.101677</td>\n",
       "      <td>0.048837</td>\n",
       "      <td>0.008658</td>\n",
       "      <td>0.052840</td>\n",
       "    </tr>\n",
       "    <tr>\n",
       "      <th>2013-03-31</th>\n",
       "      <td>-0.292565</td>\n",
       "      <td>0.049822</td>\n",
       "      <td>0.002657</td>\n",
       "      <td>-0.342387</td>\n",
       "    </tr>\n",
       "    <tr>\n",
       "      <th>2013-06-30</th>\n",
       "      <td>-0.535013</td>\n",
       "      <td>0.068386</td>\n",
       "      <td>0.010738</td>\n",
       "      <td>-0.603399</td>\n",
       "    </tr>\n",
       "    <tr>\n",
       "      <th>2013-09-30</th>\n",
       "      <td>0.443977</td>\n",
       "      <td>0.084445</td>\n",
       "      <td>0.004472</td>\n",
       "      <td>0.359532</td>\n",
       "    </tr>\n",
       "    <tr>\n",
       "      <th>2013-12-31</th>\n",
       "      <td>-0.081272</td>\n",
       "      <td>0.077552</td>\n",
       "      <td>-0.003091</td>\n",
       "      <td>-0.158824</td>\n",
       "    </tr>\n",
       "    <tr>\n",
       "      <th>2014-03-31</th>\n",
       "      <td>-0.102522</td>\n",
       "      <td>0.083854</td>\n",
       "      <td>0.014047</td>\n",
       "      <td>-0.186376</td>\n",
       "    </tr>\n",
       "    <tr>\n",
       "      <th>2014-06-30</th>\n",
       "      <td>0.211612</td>\n",
       "      <td>0.091359</td>\n",
       "      <td>-0.007520</td>\n",
       "      <td>0.120253</td>\n",
       "    </tr>\n",
       "    <tr>\n",
       "      <th>2014-09-30</th>\n",
       "      <td>0.063744</td>\n",
       "      <td>0.099210</td>\n",
       "      <td>-0.000611</td>\n",
       "      <td>-0.035466</td>\n",
       "    </tr>\n",
       "  </tbody>\n",
       "</table>\n",
       "</div>"
      ],
      "text/plain": [
       "                 r_e       r_f   Delta_c      er_e\n",
       "2012-06-30       NaN       NaN  0.005508       NaN\n",
       "2012-09-30  0.366398  0.057944  0.010978  0.308454\n",
       "2012-12-31  0.101677  0.048837  0.008658  0.052840\n",
       "2013-03-31 -0.292565  0.049822  0.002657 -0.342387\n",
       "2013-06-30 -0.535013  0.068386  0.010738 -0.603399\n",
       "2013-09-30  0.443977  0.084445  0.004472  0.359532\n",
       "2013-12-31 -0.081272  0.077552 -0.003091 -0.158824\n",
       "2014-03-31 -0.102522  0.083854  0.014047 -0.186376\n",
       "2014-06-30  0.211612  0.091359 -0.007520  0.120253\n",
       "2014-09-30  0.063744  0.099210 -0.000611 -0.035466"
      ]
     },
     "execution_count": 215,
     "metadata": {},
     "output_type": "execute_result"
    }
   ],
   "source": [
    "df.head(10)"
   ]
  },
  {
   "cell_type": "markdown",
   "metadata": {},
   "source": [
    "Basta agora, encontrar o desvio padrão do excesso de retorno $dp(er_e)$"
   ]
  },
  {
   "cell_type": "code",
   "execution_count": 216,
   "metadata": {},
   "outputs": [],
   "source": [
    "Tabela_6_2['std(er_e)'] = df['er_e'].std()*100"
   ]
  },
  {
   "cell_type": "markdown",
   "metadata": {},
   "source": [
    "Para encontrar o limite inferior de $m_{t+1,t}$ vamos usar o fato de que $\\rho(\\cdot) \\in [-1,1]$ onde $\\rho(\\cdot)$ representa o operador de correlação\n",
    "\n",
    "$$\n",
    "\\rho[m_{t+1,t}, r_{t+1}^j] = \\frac{\\mathbb{C}[m_{t+1,t}, r_{t+1}^j]}{\\mathbb{dp}[m_{t+1,t}]\\mathbb{dp}[r_{t+1}^j]} \\geq -1\n",
    "$$\n",
    "\n",
    "$$\n",
    "\\frac{\\mathbb{C}[m_{t+1,t}, r_{t+1}^j]}{\\mathbb{dp}[r_{t+1}^j]} \\geq -\\mathbb{dp}[m_{t+1,t}]\n",
    "$$\n",
    "\n",
    "$$\n",
    "\\mathbb{dp}[m_{t+1,t}] \\geq -\\frac{\\mathbb{C}[m_{t+1,t}, r_{t+1}^j]}{\\mathbb{dp}[r_{t+1}^j]}\n",
    "$$"
   ]
  },
  {
   "cell_type": "markdown",
   "metadata": {},
   "source": [
    "Como\n",
    "\n",
    "$$\n",
    "\\mathbb{C}[m_{t+1,t},r_{t+1}^j] = -\\gamma\\mathbb{C}[\\Delta c_{t+1}, r_{t+1}^j]\n",
    "$$"
   ]
  },
  {
   "cell_type": "markdown",
   "metadata": {},
   "source": [
    "Portanto\n",
    "\n",
    "$$\n",
    "\\mathbb{dp}[m_{t+1,t}] \\geq \\frac{\\gamma\\mathbb{C}[\\Delta c_{t+1}, r_{t+1}^j]}{\\mathbb{dp}[r_{t+1}^j]}\n",
    "$$"
   ]
  },
  {
   "cell_type": "markdown",
   "metadata": {},
   "source": [
    "Usando $(5)$\n",
    "\n",
    "$$\n",
    "\\mathbb{dp}[m_{t+1,t}] \\geq \\frac{\\mathbb{E}[r_{t+1}^j] - r_c^{t\\rightarrow t+1} + \\frac{1}{2}\\mathbb{V}[r_{t+1}^j]}{\\mathbb{dp}[r_{t+1}^j]}\n",
    "\\tag{6}\n",
    "$$\n",
    "\n",
    "chegamos no limite inferior de $dp(\\ln(M_{t+1,t}))$. Denote esse limite por\n",
    "\n",
    "$$\n",
    "\\sigma(m) = \\frac{\\mathbb{E}[r_{t+1}^j] - r_c^{t\\rightarrow t+1} + \\frac{1}{2}\\mathbb{V}[r_{t+1}^j]}{\\mathbb{dp}[r_{t+1}^j]}\n",
    "$$"
   ]
  },
  {
   "cell_type": "code",
   "execution_count": 207,
   "metadata": {},
   "outputs": [],
   "source": [
    "Tabela_6_2['std(m)'] = Tabela_6_2['mean(aer_e)']/(Tabela_6_1['std(re)']/100)"
   ]
  },
  {
   "cell_type": "markdown",
   "metadata": {},
   "source": [
    "A coluna do desvio padrão da taxa de crescimento do consumo foi obtida na Tabela 6.1."
   ]
  },
  {
   "cell_type": "code",
   "execution_count": 209,
   "metadata": {},
   "outputs": [],
   "source": [
    "Tabela_6_2['std(c)'] = Tabela_6_1['std(c)']"
   ]
  },
  {
   "cell_type": "markdown",
   "metadata": {},
   "source": [
    "Um dos dados que é demonstrado na Tabela 6.2 e será necessário para obter o coeficiente de aversão relativa ao risco pelo segundo método $RRA(2)$ é o coeficiente de correlação entre o excesso de retorno e a taxa de crescimento do consumo\n",
    "\n",
    "$$\n",
    "\\rho[er_e,\\Delta c] = \\frac{\\mathbb{C}[er_e, \\Delta c]}{dp[er_e]\\cdot dp[\\Delta c]}\n",
    "$$"
   ]
  },
  {
   "cell_type": "code",
   "execution_count": 224,
   "metadata": {},
   "outputs": [],
   "source": [
    "Tabela_6_2['ro(er_e,c)'] = df['Delta_c'].corr(df['er_e'])"
   ]
  },
  {
   "cell_type": "markdown",
   "metadata": {},
   "source": [
    "Partindo da equação $(5)$\n",
    "\n",
    "$$\n",
    "\\gamma = \\frac{\\mathbb{E}[r_{t+1}^j] - r_c^{t\\rightarrow t+1} + \\frac{1}{2}\\mathbb{V}[r_{t+1}^j]}{\\mathbb{C}[\\Delta c_{t+1},r_{t+1}^j]}\n",
    "$$\n",
    "\n",
    "denote por $RRA(1)$ o coeficiente de aversão relativa ao risco extraído do prêmio de risco\n",
    "e \n",
    "\n",
    "$$\n",
    "RRA(2) = \\rho[er_e, \\Delta c]\\cdot RRA(1)\n",
    "$$"
   ]
  },
  {
   "cell_type": "code",
   "execution_count": 228,
   "metadata": {},
   "outputs": [],
   "source": [
    "Tabela_6_2['RRA(1)'] = Tabela_6_2['mean(aer_e)']/(df['Delta_c'].cov(df['r_e']))"
   ]
  },
  {
   "cell_type": "code",
   "execution_count": 230,
   "metadata": {},
   "outputs": [],
   "source": [
    "Tabela_6_2['RRA(2)'] = Tabela_6_2['RRA(1)']*Tabela_6_2['ro(er_e,c)']"
   ]
  },
  {
   "cell_type": "code",
   "execution_count": 231,
   "metadata": {},
   "outputs": [
    {
     "data": {
      "text/html": [
       "<div>\n",
       "<style scoped>\n",
       "    .dataframe tbody tr th:only-of-type {\n",
       "        vertical-align: middle;\n",
       "    }\n",
       "\n",
       "    .dataframe tbody tr th {\n",
       "        vertical-align: top;\n",
       "    }\n",
       "\n",
       "    .dataframe thead th {\n",
       "        text-align: right;\n",
       "    }\n",
       "</style>\n",
       "<table border=\"1\" class=\"dataframe\">\n",
       "  <thead>\n",
       "    <tr style=\"text-align: right;\">\n",
       "      <th></th>\n",
       "      <th>sample period</th>\n",
       "      <th>mean(aer_e)</th>\n",
       "      <th>std(er_e)</th>\n",
       "      <th>std(m)</th>\n",
       "      <th>std(c)</th>\n",
       "      <th>ro(er_e,c)</th>\n",
       "      <th>RRA(1)</th>\n",
       "      <th>RRA(2)</th>\n",
       "    </tr>\n",
       "  </thead>\n",
       "  <tbody>\n",
       "    <tr>\n",
       "      <th>Brazil</th>\n",
       "      <td>2012Q2-2022Q2</td>\n",
       "      <td>18.670347</td>\n",
       "      <td>49.567267</td>\n",
       "      <td>38.228171</td>\n",
       "      <td>2.466657</td>\n",
       "      <td>-0.32455</td>\n",
       "      <td>-4525.548871</td>\n",
       "      <td>1468.767915</td>\n",
       "    </tr>\n",
       "  </tbody>\n",
       "</table>\n",
       "</div>"
      ],
      "text/plain": [
       "        sample period  mean(aer_e)  std(er_e)     std(m)    std(c)  \\\n",
       "Brazil  2012Q2-2022Q2    18.670347  49.567267  38.228171  2.466657   \n",
       "\n",
       "        ro(er_e,c)       RRA(1)       RRA(2)  \n",
       "Brazil    -0.32455 -4525.548871  1468.767915  "
      ]
     },
     "execution_count": 231,
     "metadata": {},
     "output_type": "execute_result"
    }
   ],
   "source": [
    "Tabela_6_2"
   ]
  },
  {
   "cell_type": "markdown",
   "metadata": {},
   "source": [
    "### Tabela 6.3 - The riskfree rate puzzle\n"
   ]
  }
 ],
 "metadata": {
  "kernelspec": {
   "display_name": "Python 3.10.2 64-bit",
   "language": "python",
   "name": "python3"
  },
  "language_info": {
   "codemirror_mode": {
    "name": "ipython",
    "version": 3
   },
   "file_extension": ".py",
   "mimetype": "text/x-python",
   "name": "python",
   "nbconvert_exporter": "python",
   "pygments_lexer": "ipython3",
   "version": "3.10.2"
  },
  "orig_nbformat": 4,
  "vscode": {
   "interpreter": {
    "hash": "c63d8c7d738c2960218a10995aedf0a7f67a49a231e71037adf0440953cdb45b"
   }
  }
 },
 "nbformat": 4,
 "nbformat_minor": 2
}
